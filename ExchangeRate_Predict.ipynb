{
  "nbformat": 4,
  "nbformat_minor": 0,
  "metadata": {
    "colab": {
      "name": "TrainTest.ipynb",
      "provenance": [],
      "collapsed_sections": []
    },
    "kernelspec": {
      "name": "python3",
      "display_name": "Python 3"
    }
  },
  "cells": [
    {
      "cell_type": "code",
      "metadata": {
        "id": "k1v2T-iSFsn0",
        "colab": {
          "base_uri": "https://localhost:8080/",
          "height": 363
        },
        "outputId": "8406225a-df89-4439-fbbd-953feb141ea9"
      },
      "source": [
        "import numpy as np\n",
        "import pandas as pd\n",
        "import matplotlib.pyplot as plt\n",
        "import seaborn as sns\n",
        "from matplotlib import rc\n",
        "from sklearn.model_selection import train_test_split\n",
        "from sklearn.linear_model import LinearRegression\n",
        "from sklearn import metrics\n",
        "\n",
        "df = pd.read_csv('https://raw.githubusercontent.com/Explore-AI/Public-Data/master/Data/regression_sprint/regression_sprint_data_1.csv', index_col=0)\n",
        "df.head(10)"
      ],
      "execution_count": 1,
      "outputs": [
        {
          "output_type": "execute_result",
          "data": {
            "text/html": [
              "\n",
              "  <div id=\"df-0624790c-353c-401b-b7af-987516471268\">\n",
              "    <div class=\"colab-df-container\">\n",
              "      <div>\n",
              "<style scoped>\n",
              "    .dataframe tbody tr th:only-of-type {\n",
              "        vertical-align: middle;\n",
              "    }\n",
              "\n",
              "    .dataframe tbody tr th {\n",
              "        vertical-align: top;\n",
              "    }\n",
              "\n",
              "    .dataframe thead th {\n",
              "        text-align: right;\n",
              "    }\n",
              "</style>\n",
              "<table border=\"1\" class=\"dataframe\">\n",
              "  <thead>\n",
              "    <tr style=\"text-align: right;\">\n",
              "      <th></th>\n",
              "      <th>ZAR/USD</th>\n",
              "      <th>Value of Exports (ZAR)</th>\n",
              "    </tr>\n",
              "  </thead>\n",
              "  <tbody>\n",
              "    <tr>\n",
              "      <th>2008M01</th>\n",
              "      <td>7.01</td>\n",
              "      <td>39356.82</td>\n",
              "    </tr>\n",
              "    <tr>\n",
              "      <th>2008M02</th>\n",
              "      <td>7.66</td>\n",
              "      <td>46946.33</td>\n",
              "    </tr>\n",
              "    <tr>\n",
              "      <th>2008M03</th>\n",
              "      <td>7.97</td>\n",
              "      <td>51150.89</td>\n",
              "    </tr>\n",
              "    <tr>\n",
              "      <th>2008M04</th>\n",
              "      <td>7.79</td>\n",
              "      <td>56174.34</td>\n",
              "    </tr>\n",
              "    <tr>\n",
              "      <th>2008M05</th>\n",
              "      <td>7.62</td>\n",
              "      <td>56240.45</td>\n",
              "    </tr>\n",
              "    <tr>\n",
              "      <th>2008M06</th>\n",
              "      <td>7.92</td>\n",
              "      <td>60159.93</td>\n",
              "    </tr>\n",
              "    <tr>\n",
              "      <th>2008M07</th>\n",
              "      <td>7.63</td>\n",
              "      <td>61268.16</td>\n",
              "    </tr>\n",
              "    <tr>\n",
              "      <th>2008M08</th>\n",
              "      <td>7.66</td>\n",
              "      <td>60390.94</td>\n",
              "    </tr>\n",
              "    <tr>\n",
              "      <th>2008M09</th>\n",
              "      <td>8.06</td>\n",
              "      <td>61067.34</td>\n",
              "    </tr>\n",
              "    <tr>\n",
              "      <th>2008M10</th>\n",
              "      <td>9.74</td>\n",
              "      <td>65652.57</td>\n",
              "    </tr>\n",
              "  </tbody>\n",
              "</table>\n",
              "</div>\n",
              "      <button class=\"colab-df-convert\" onclick=\"convertToInteractive('df-0624790c-353c-401b-b7af-987516471268')\"\n",
              "              title=\"Convert this dataframe to an interactive table.\"\n",
              "              style=\"display:none;\">\n",
              "        \n",
              "  <svg xmlns=\"http://www.w3.org/2000/svg\" height=\"24px\"viewBox=\"0 0 24 24\"\n",
              "       width=\"24px\">\n",
              "    <path d=\"M0 0h24v24H0V0z\" fill=\"none\"/>\n",
              "    <path d=\"M18.56 5.44l.94 2.06.94-2.06 2.06-.94-2.06-.94-.94-2.06-.94 2.06-2.06.94zm-11 1L8.5 8.5l.94-2.06 2.06-.94-2.06-.94L8.5 2.5l-.94 2.06-2.06.94zm10 10l.94 2.06.94-2.06 2.06-.94-2.06-.94-.94-2.06-.94 2.06-2.06.94z\"/><path d=\"M17.41 7.96l-1.37-1.37c-.4-.4-.92-.59-1.43-.59-.52 0-1.04.2-1.43.59L10.3 9.45l-7.72 7.72c-.78.78-.78 2.05 0 2.83L4 21.41c.39.39.9.59 1.41.59.51 0 1.02-.2 1.41-.59l7.78-7.78 2.81-2.81c.8-.78.8-2.07 0-2.86zM5.41 20L4 18.59l7.72-7.72 1.47 1.35L5.41 20z\"/>\n",
              "  </svg>\n",
              "      </button>\n",
              "      \n",
              "  <style>\n",
              "    .colab-df-container {\n",
              "      display:flex;\n",
              "      flex-wrap:wrap;\n",
              "      gap: 12px;\n",
              "    }\n",
              "\n",
              "    .colab-df-convert {\n",
              "      background-color: #E8F0FE;\n",
              "      border: none;\n",
              "      border-radius: 50%;\n",
              "      cursor: pointer;\n",
              "      display: none;\n",
              "      fill: #1967D2;\n",
              "      height: 32px;\n",
              "      padding: 0 0 0 0;\n",
              "      width: 32px;\n",
              "    }\n",
              "\n",
              "    .colab-df-convert:hover {\n",
              "      background-color: #E2EBFA;\n",
              "      box-shadow: 0px 1px 2px rgba(60, 64, 67, 0.3), 0px 1px 3px 1px rgba(60, 64, 67, 0.15);\n",
              "      fill: #174EA6;\n",
              "    }\n",
              "\n",
              "    [theme=dark] .colab-df-convert {\n",
              "      background-color: #3B4455;\n",
              "      fill: #D2E3FC;\n",
              "    }\n",
              "\n",
              "    [theme=dark] .colab-df-convert:hover {\n",
              "      background-color: #434B5C;\n",
              "      box-shadow: 0px 1px 3px 1px rgba(0, 0, 0, 0.15);\n",
              "      filter: drop-shadow(0px 1px 2px rgba(0, 0, 0, 0.3));\n",
              "      fill: #FFFFFF;\n",
              "    }\n",
              "  </style>\n",
              "\n",
              "      <script>\n",
              "        const buttonEl =\n",
              "          document.querySelector('#df-0624790c-353c-401b-b7af-987516471268 button.colab-df-convert');\n",
              "        buttonEl.style.display =\n",
              "          google.colab.kernel.accessAllowed ? 'block' : 'none';\n",
              "\n",
              "        async function convertToInteractive(key) {\n",
              "          const element = document.querySelector('#df-0624790c-353c-401b-b7af-987516471268');\n",
              "          const dataTable =\n",
              "            await google.colab.kernel.invokeFunction('convertToInteractive',\n",
              "                                                     [key], {});\n",
              "          if (!dataTable) return;\n",
              "\n",
              "          const docLinkHtml = 'Like what you see? Visit the ' +\n",
              "            '<a target=\"_blank\" href=https://colab.research.google.com/notebooks/data_table.ipynb>data table notebook</a>'\n",
              "            + ' to learn more about interactive tables.';\n",
              "          element.innerHTML = '';\n",
              "          dataTable['output_type'] = 'display_data';\n",
              "          await google.colab.output.renderOutput(dataTable, element);\n",
              "          const docLink = document.createElement('div');\n",
              "          docLink.innerHTML = docLinkHtml;\n",
              "          element.appendChild(docLink);\n",
              "        }\n",
              "      </script>\n",
              "    </div>\n",
              "  </div>\n",
              "  "
            ],
            "text/plain": [
              "         ZAR/USD  Value of Exports (ZAR)\n",
              "2008M01     7.01                39356.82\n",
              "2008M02     7.66                46946.33\n",
              "2008M03     7.97                51150.89\n",
              "2008M04     7.79                56174.34\n",
              "2008M05     7.62                56240.45\n",
              "2008M06     7.92                60159.93\n",
              "2008M07     7.63                61268.16\n",
              "2008M08     7.66                60390.94\n",
              "2008M09     8.06                61067.34\n",
              "2008M10     9.74                65652.57"
            ]
          },
          "metadata": {},
          "execution_count": 1
        }
      ]
    },
    {
      "cell_type": "code",
      "metadata": {
        "id": "rQRITMC-XZDR",
        "colab": {
          "base_uri": "https://localhost:8080/",
          "height": 265
        },
        "outputId": "b03bcbb8-8c5c-4ae9-911d-c1d87966ec0d"
      },
      "source": [
        "#split the dataset into response, y, and features, x\n",
        "y = df['ZAR/USD']\n",
        "X = df.drop('ZAR/USD', axis=1)\n",
        "\n",
        "X_train, X_test, y_train, y_test = train_test_split(X, y, test_size=0.2, random_state=50)\n",
        "\n",
        "#plot the results\n",
        "plt.scatter(X_train, y_train, color='green', label='Training')\n",
        "\n",
        "#plot the training data set in green \n",
        "plt.scatter(X_test, y_test, color='darkblue', label='Testing')\n",
        "\n",
        "#plot the testing data in blue\n",
        "plt.legend()\n",
        "plt.show()"
      ],
      "execution_count": 2,
      "outputs": [
        {
          "output_type": "display_data",
          "data": {
            "image/png": "[encoded data removed]",
            "text/plain": [
              "<Figure size 432x288 with 1 Axes>"
            ]
          },
          "metadata": {
            "needs_background": "light"
          }
        }
      ]
    },
    {
      "cell_type": "code",
      "metadata": {
        "id": "ms2FQTLAlQRa",
        "colab": {
          "base_uri": "https://localhost:8080/"
        },
        "outputId": "5080c693-b0f2-4f62-bdf5-86d3e8a089a9"
      },
      "source": [
        "#declare model object\n",
        "lm = LinearRegression()\n",
        "\n",
        "#fit the model to the training data (training the model)\n",
        "lm.fit(X_train, y_train)\n",
        "\n",
        "#extract the intercept or y-cut of our linear model\n",
        "a = float(lm.intercept_)\n",
        "\n",
        "#extract the gradient or coefficient of our linear model\n",
        "b = lm.coef_\n",
        "\n",
        "print(\"Slope:\\t\\t\", b)\n",
        "print(\"Intercept:\\t\", float(a))\n"
      ],
      "execution_count": 3,
      "outputs": [
        {
          "output_type": "stream",
          "name": "stdout",
          "text": [
            "Slope:\t\t [0.0001199]\n",
            "Intercept:\t 1.4542630444144802\n"
          ]
        }
      ]
    },
    {
      "cell_type": "markdown",
      "metadata": {
        "id": "kBHL7T31mxne"
      },
      "source": [
        "Using **predict()** method on our model to predict **y-values(ZAR/USD Exchange Rate)** from the x-values(Value of Exports) in the training set"
      ]
    },
    {
      "cell_type": "code",
      "metadata": {
        "id": "-F2EiGornE8i",
        "colab": {
          "base_uri": "https://localhost:8080/",
          "height": 317
        },
        "outputId": "7fe70dab-317c-4a34-98e9-1a442689abc7"
      },
      "source": [
        "#generate the values that fall within our regression line\n",
        "gen_y = lm.predict(X_train)\n",
        "\n",
        "#plot the results\n",
        "plt.scatter(X_train, y_train, color='green') #training data in green\n",
        "\n",
        "plt.plot(X_train, gen_y, color='red') #line connecting the generated y-values\n",
        "plt.show()\n",
        "\n",
        "print(\"Training:\")\n",
        "#calculate the mean-squared-error\n",
        "print('MSE:', metrics.mean_squared_error(y_train, gen_y))\n",
        "#R squared metric\n",
        "print(\"R_Squared\", metrics.r2_score(y_train, gen_y))"
      ],
      "execution_count": 4,
      "outputs": [
        {
          "output_type": "display_data",
          "data": {
            "image/png": "[encoded data removed]",
            "text/plain": [
              "<Figure size 432x288 with 1 Axes>"
            ]
          },
          "metadata": {
            "needs_background": "light"
          }
        },
        {
          "output_type": "stream",
          "name": "stdout",
          "text": [
            "Training:\n",
            "MSE: 2.6125475375589073\n",
            "R_Squared 0.6402293095045937\n"
          ]
        }
      ]
    },
    {
      "cell_type": "markdown",
      "metadata": {
        "id": "DtGvjWX_rMPJ"
      },
      "source": [
        "**Testing the model on unseen data**"
      ]
    },
    {
      "cell_type": "code",
      "metadata": {
        "id": "Q45u1-7-rVLC",
        "colab": {
          "base_uri": "https://localhost:8080/",
          "height": 317
        },
        "outputId": "6d00ba14-7838-4832-fd62-3846adaaedaf"
      },
      "source": [
        "#generate values of y from x using the linear model\n",
        "gen_y_test = lm.predict(X_test)\n",
        "\n",
        "#plot the results\n",
        "plt.scatter(X_test, y_test, color='darkblue') #plot testing data in blue\n",
        "\n",
        "plt.plot(X_test, gen_y_test, color='red')\n",
        "#plot the line connecting generated y-values in red\n",
        "plt.show()\n",
        "\n",
        "#check MSE and R Squared\n",
        "\n",
        "print(\"Testing:\")\n",
        "print('MSE:', metrics.mean_squared_error(y_test, gen_y_test))\n",
        "print('R_Squared:', metrics.r2_score(y_test, gen_y_test))"
      ],
      "execution_count": 5,
      "outputs": [
        {
          "output_type": "display_data",
          "data": {
            "image/png": "[encoded data removed]",
            "text/plain": [
              "<Figure size 432x288 with 1 Axes>"
            ]
          },
          "metadata": {
            "needs_background": "light"
          }
        },
        {
          "output_type": "stream",
          "name": "stdout",
          "text": [
            "Testing:\n",
            "MSE: 3.038981977599916\n",
            "R_Squared: 0.30031043412578884\n"
          ]
        }
      ]
    },
    {
      "cell_type": "markdown",
      "metadata": {
        "id": "3qfDGMHYst9w"
      },
      "source": [
        "**Poor predictive accuracy** since MSE is higher on the **Testing set** than the **Training set**. The model underfits test data but fits too well train data.(discrepancies between the two.)"
      ]
    },
    {
      "cell_type": "markdown",
      "source": [
        "Investigating any correlation between ZAR/USD and Value of Exports variables."
      ],
      "metadata": {
        "id": "Rap-jGRtIpg_"
      }
    },
    {
      "cell_type": "code",
      "source": [
        "exchange_rate = df[\"ZAR/USD\"]\n",
        "exports = df[\"Value of Exports (ZAR)\"]\n",
        "correlation = exports.corr(exchange_rate)\n",
        "print(correlation)"
      ],
      "metadata": {
        "colab": {
          "base_uri": "https://localhost:8080/"
        },
        "id": "UXPdeo1yInFU",
        "outputId": "349a667b-710e-474c-c7bc-59559fb4718f"
      },
      "execution_count": 10,
      "outputs": [
        {
          "output_type": "stream",
          "name": "stdout",
          "text": [
            "0.784755852281218\n"
          ]
        }
      ]
    },
    {
      "cell_type": "markdown",
      "source": [
        "There is a **78.4%** correlation between Exchange rate and the value of exports, thus we can't say for certain that the value of exports is proportional to the ZAR/USD exchange rate."
      ],
      "metadata": {
        "id": "nceyjKKoLrzy"
      }
    }
  ]
}